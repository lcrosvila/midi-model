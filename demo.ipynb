{
 "cells": [
  {
   "cell_type": "markdown",
   "metadata": {
    "id": "iP8X4dEgW7mV",
    "pycharm": {
     "name": "#%% md\n"
    }
   },
   "source": [
    "## setup env"
   ]
  },
  {
   "cell_type": "markdown",
   "metadata": {
    "id": "JCLLCzxAXpnG",
    "pycharm": {
     "name": "#%% md\n"
    }
   },
   "source": [
    "## run"
   ]
  },
  {
   "cell_type": "code",
   "execution_count": null,
   "metadata": {
    "id": "XUSb-v_cXi4k",
    "pycharm": {
     "name": "#%%\n"
    }
   },
   "outputs": [],
   "source": [
    "!python app.py --max-gen 4096 --share"
   ]
  }
 ],
 "metadata": {
  "accelerator": "GPU",
  "colab": {
   "collapsed_sections": [
    "iP8X4dEgW7mV"
   ],
   "gpuType": "T4",
   "provenance": []
  },
  "kernelspec": {
   "display_name": "Python 3",
   "name": "python3"
  },
  "language_info": {
   "name": "python"
  }
 },
 "nbformat": 4,
 "nbformat_minor": 0
}
